{
 "cells": [
  {
   "cell_type": "code",
   "execution_count": 1,
   "metadata": {},
   "outputs": [],
   "source": [
    "# numerics\n",
    "import numpy as np\n",
    "import itertools\n",
    "\n",
    "# images\n",
    "from scipy.misc import *\n",
    "#imresize, imread, imshow\n",
    "import matplotlib.pylab as plt\n",
    "\n",
    "# dealing with tar files\n",
    "import tarfile, gzip\n",
    "\n",
    "# extracting data about faces/people\n",
    "import csv\n",
    "\n",
    "# nice stuff\n",
    "import os, re\n",
    "from pprint import pprint\n",
    "\n",
    "#progressbar\n",
    "import time\n",
    "import progressbar\n",
    "\n",
    "import imageio"
   ]
  },
  {
   "cell_type": "code",
   "execution_count": 2,
   "metadata": {},
   "outputs": [
    {
     "name": "stderr",
     "output_type": "stream",
     "text": [
      "Using TensorFlow backend.\n"
     ]
    }
   ],
   "source": [
    "from __future__ import absolute_import\n",
    "from __future__ import print_function\n",
    "import numpy as np\n",
    "np.random.seed(1337)  # for reproducibility\n",
    "\n",
    "import keras\n",
    "from keras.models import Sequential\n",
    "from keras.layers.core import Dense, Dropout, Activation, Flatten\n",
    "from keras.layers.convolutional import Conv2D, MaxPooling2D\n",
    "from keras.utils import np_utils\n",
    "from scipy.misc import imresize \n",
    "from keras.layers import *"
   ]
  },
  {
   "cell_type": "code",
   "execution_count": 25,
   "metadata": {},
   "outputs": [],
   "source": [
    "def load_image_base(basename, number):\n",
    "    filename = \"images/{0}/{1}\".format(basename, number)\n",
    "    #print(filename)\n",
    "    return imageio.imread(filename)"
   ]
  },
  {
   "cell_type": "code",
   "execution_count": 28,
   "metadata": {},
   "outputs": [
    {
     "data": {
      "text/plain": [
       "['UN',\n",
       " 'DIM2',\n",
       " 'GA',\n",
       " 'DI',\n",
       " 'SAL',\n",
       " 'NU',\n",
       " 'DU',\n",
       " 'NI',\n",
       " 'MA',\n",
       " 'GI',\n",
       " 'DA',\n",
       " 'KUR',\n",
       " 'MU',\n",
       " 'DIB',\n",
       " 'NA',\n",
       " 'AB',\n",
       " 'LUGAL',\n",
       " 'TUR',\n",
       " 'IN',\n",
       " 'LAL',\n",
       " 'RU',\n",
       " 'RI',\n",
       " 'A',\n",
       " 'RA',\n",
       " 'ZI',\n",
       " 'UD',\n",
       " 'KID-E2',\n",
       " 'ZU',\n",
       " 'IGI',\n",
       " 'ZA',\n",
       " 'GAL',\n",
       " 'SI',\n",
       " 'AN',\n",
       " 'ME',\n",
       " 'BA',\n",
       " 'KI',\n",
       " 'NE',\n",
       " 'BI',\n",
       " 'TUG2',\n",
       " 'KA',\n",
       " 'KU3',\n",
       " 'IM',\n",
       " 'LU',\n",
       " 'NAM',\n",
       " 'EN',\n",
       " 'IB',\n",
       " 'LA',\n",
       " 'TA',\n",
       " 'E',\n",
       " 'LU2']"
      ]
     },
     "execution_count": 28,
     "metadata": {},
     "output_type": "execute_result"
    }
   ],
   "source": [
    "characters = os.listdir(\"images\")\n",
    "characters"
   ]
  },
  {
   "cell_type": "code",
   "execution_count": 16,
   "metadata": {},
   "outputs": [
    {
     "data": {
      "text/plain": [
       "(64, 64, 3)"
      ]
     },
     "execution_count": 16,
     "metadata": {},
     "output_type": "execute_result"
    }
   ],
   "source": [
    "load_image_base(characters[0], 1).shape"
   ]
  },
  {
   "cell_type": "code",
   "execution_count": 17,
   "metadata": {},
   "outputs": [],
   "source": [
    "def extract_features(z):\n",
    "    features = np.array([z[:,:,0],z[:,:,1],z[:,:,2]])\n",
    "    return features"
   ]
  },
  {
   "cell_type": "code",
   "execution_count": 46,
   "metadata": {},
   "outputs": [],
   "source": [
    "def loaddata(characters):\n",
    "    trainX = []\n",
    "    trainY = []\n",
    "    for i in progressbar.progressbar(range(len(characters))):\n",
    "        imagesC = os.listdir(\"images/\"+characters[i])\n",
    "        for j in imagesC:\n",
    "            trainX.append(extract_features(load_image_base(characters[i], j)))\n",
    "            trainY.append(i)\n",
    "    return np.asarray(trainX).astype('float64'), np.asarray(trainY).astype('float64')"
   ]
  },
  {
   "cell_type": "code",
   "execution_count": 47,
   "metadata": {},
   "outputs": [
    {
     "name": "stderr",
     "output_type": "stream",
     "text": [
      "100% (50 of 50) |########################| Elapsed Time: 0:00:03 Time:  0:00:03\n"
     ]
    }
   ],
   "source": [
    "trainX, trainY = loaddata(characters)"
   ]
  },
  {
   "cell_type": "code",
   "execution_count": 48,
   "metadata": {},
   "outputs": [
    {
     "data": {
      "text/plain": [
       "(4416, 3, 64, 64)"
      ]
     },
     "execution_count": 48,
     "metadata": {},
     "output_type": "execute_result"
    }
   ],
   "source": [
    "trainX.shape"
   ]
  },
  {
   "cell_type": "code",
   "execution_count": 49,
   "metadata": {},
   "outputs": [
    {
     "data": {
      "text/plain": [
       "(4416,)"
      ]
     },
     "execution_count": 49,
     "metadata": {},
     "output_type": "execute_result"
    }
   ],
   "source": [
    "trainY.shape"
   ]
  },
  {
   "cell_type": "code",
   "execution_count": 50,
   "metadata": {},
   "outputs": [
    {
     "data": {
      "text/plain": [
       "array([[[255., 255., 255., ..., 255., 255., 255.],\n",
       "        [255., 255., 255., ..., 255., 255., 255.],\n",
       "        [255., 255., 255., ..., 255., 255., 255.],\n",
       "        ...,\n",
       "        [255., 255., 255., ..., 255., 255., 255.],\n",
       "        [255., 255., 255., ..., 255., 255., 255.],\n",
       "        [255., 255., 255., ..., 255., 255., 255.]],\n",
       "\n",
       "       [[255., 255., 255., ..., 255., 255., 255.],\n",
       "        [255., 255., 255., ..., 255., 255., 255.],\n",
       "        [255., 255., 255., ..., 255., 255., 255.],\n",
       "        ...,\n",
       "        [255., 255., 255., ..., 255., 255., 255.],\n",
       "        [255., 255., 255., ..., 255., 255., 255.],\n",
       "        [255., 255., 255., ..., 255., 255., 255.]],\n",
       "\n",
       "       [[255., 255., 255., ..., 255., 255., 255.],\n",
       "        [255., 255., 255., ..., 255., 255., 255.],\n",
       "        [255., 255., 255., ..., 255., 255., 255.],\n",
       "        ...,\n",
       "        [255., 255., 255., ..., 255., 255., 255.],\n",
       "        [255., 255., 255., ..., 255., 255., 255.],\n",
       "        [255., 255., 255., ..., 255., 255., 255.]]])"
      ]
     },
     "execution_count": 50,
     "metadata": {},
     "output_type": "execute_result"
    }
   ],
   "source": [
    "trainX[0]"
   ]
  },
  {
   "cell_type": "code",
   "execution_count": 56,
   "metadata": {},
   "outputs": [],
   "source": [
    "def crop_and_downsample(originalX, downsample_size=32):\n",
    "    \"\"\"\n",
    "    Starts with a 250 x 250 image.\n",
    "    Crops to 128 x 128 around the center.\n",
    "    Downsamples the image to (downsample_size) x (downsample_size).\n",
    "    Returns an image with dimensions (channel, width, height).\n",
    "    \"\"\"\n",
    "    current_dim = 64\n",
    "    target_dim = 64\n",
    "    margin = int((current_dim - target_dim)/2)\n",
    "    left_margin = margin\n",
    "    right_margin = current_dim - margin\n",
    "\n",
    "    # newim is shape (3, 64, 64)\n",
    "    newim = originalX[:, left_margin:right_margin, left_margin:right_margin]\n",
    "\n",
    "    # resized are shape (feature_width, feature_height, 3)\n",
    "    feature_width = feature_height = downsample_size\n",
    "    resized1 = imresize(newim[0:3,:,:], (feature_width, feature_height), interp=\"bicubic\", mode=\"RGB\")\n",
    "    #resized2 = imresize(newim[3:6,:,:], (feature_width, feature_height), interp=\"bicubic\", mode=\"RGB\")\n",
    "\n",
    "    # re-packge into a new X entry\n",
    "    #newX = np.concatenate([resized1,resized2], axis=2)\n",
    "    newX = resized1\n",
    "    \n",
    "    # the next line is EXTREMELY important.\n",
    "    # if you don't normalize your data, all predictions will be 0 forever.\n",
    "    newX = newX/255.0\n",
    "    \n",
    "    return newX"
   ]
  },
  {
   "cell_type": "code",
   "execution_count": 71,
   "metadata": {},
   "outputs": [
    {
     "name": "stderr",
     "output_type": "stream",
     "text": [
      "/Users/jayanth/Library/Python/2.7/lib/python/site-packages/ipykernel_launcher.py:19: DeprecationWarning: `imresize` is deprecated!\n",
      "`imresize` is deprecated in SciPy 1.0.0, and will be removed in 1.2.0.\n",
      "Use ``skimage.transform.resize`` instead.\n"
     ]
    }
   ],
   "source": [
    "ds = 32\n",
    "Xtrain = np.asarray([crop_and_downsample(x, downsample_size=ds) for x in trainX])"
   ]
  },
  {
   "cell_type": "code",
   "execution_count": 72,
   "metadata": {},
   "outputs": [
    {
     "name": "stdout",
     "output_type": "stream",
     "text": [
      "(4416, 32, 32, 3)\n"
     ]
    }
   ],
   "source": [
    "print(Xtrain.shape)"
   ]
  },
  {
   "cell_type": "code",
   "execution_count": 73,
   "metadata": {},
   "outputs": [
    {
     "data": {
      "text/plain": [
       "(32, 32, 3)"
      ]
     },
     "execution_count": 73,
     "metadata": {},
     "output_type": "execute_result"
    }
   ],
   "source": [
    "im = Xtrain[1]\n",
    "np.shape(im)"
   ]
  },
  {
   "cell_type": "code",
   "execution_count": 74,
   "metadata": {},
   "outputs": [
    {
     "data": {
      "text/plain": [
       "array([[[1., 1., 1.],\n",
       "        [1., 1., 1.],\n",
       "        [1., 1., 1.],\n",
       "        ...,\n",
       "        [1., 1., 1.],\n",
       "        [1., 1., 1.],\n",
       "        [1., 1., 1.]],\n",
       "\n",
       "       [[1., 1., 1.],\n",
       "        [1., 1., 1.],\n",
       "        [1., 1., 1.],\n",
       "        ...,\n",
       "        [1., 1., 1.],\n",
       "        [1., 1., 1.],\n",
       "        [1., 1., 1.]],\n",
       "\n",
       "       [[1., 1., 1.],\n",
       "        [1., 1., 1.],\n",
       "        [1., 1., 1.],\n",
       "        ...,\n",
       "        [1., 1., 1.],\n",
       "        [1., 1., 1.],\n",
       "        [1., 1., 1.]],\n",
       "\n",
       "       ...,\n",
       "\n",
       "       [[1., 1., 1.],\n",
       "        [1., 1., 1.],\n",
       "        [1., 1., 1.],\n",
       "        ...,\n",
       "        [1., 1., 1.],\n",
       "        [1., 1., 1.],\n",
       "        [1., 1., 1.]],\n",
       "\n",
       "       [[1., 1., 1.],\n",
       "        [1., 1., 1.],\n",
       "        [1., 1., 1.],\n",
       "        ...,\n",
       "        [1., 1., 1.],\n",
       "        [1., 1., 1.],\n",
       "        [1., 1., 1.]],\n",
       "\n",
       "       [[1., 1., 1.],\n",
       "        [1., 1., 1.],\n",
       "        [1., 1., 1.],\n",
       "        ...,\n",
       "        [1., 1., 1.],\n",
       "        [1., 1., 1.],\n",
       "        [1., 1., 1.]]])"
      ]
     },
     "execution_count": 74,
     "metadata": {},
     "output_type": "execute_result"
    }
   ],
   "source": [
    "im"
   ]
  },
  {
   "cell_type": "code",
   "execution_count": 75,
   "metadata": {},
   "outputs": [
    {
     "data": {
      "image/png": "[encoded data removed]",
      "text/plain": [
       "<Figure size 432x288 with 2 Axes>"
      ]
     },
     "metadata": {
      "needs_background": "light"
     },
     "output_type": "display_data"
    }
   ],
   "source": [
    "fig = plt.figure()\n",
    "ax1, ax2 = [fig.add_subplot(1,2,i+1) for i in range(2)]\n",
    "ax1.imshow(Xtrain[5,:,:,0:3])\n",
    "ax2.imshow(Xtrain[6,:,:,0:3])\n",
    "plt.show()"
   ]
  },
  {
   "cell_type": "code",
   "execution_count": 76,
   "metadata": {},
   "outputs": [],
   "source": [
    "nb_classes = len(characters)\n",
    "# convert class vectors to binary class matrices\n",
    "Ytrain = np_utils.to_categorical(trainY, nb_classes)"
   ]
  },
  {
   "cell_type": "code",
   "execution_count": 89,
   "metadata": {},
   "outputs": [],
   "source": [
    "from sklearn.model_selection import train_test_split\n",
    "X_train, X_test, Y_train, Y_test = train_test_split(Xtrain, Ytrain, test_size=0.02, random_state=42)"
   ]
  },
  {
   "cell_type": "code",
   "execution_count": 90,
   "metadata": {},
   "outputs": [
    {
     "data": {
      "text/plain": [
       "((4327, 50), (89, 50))"
      ]
     },
     "execution_count": 90,
     "metadata": {},
     "output_type": "execute_result"
    }
   ],
   "source": [
    "np.shape(Y_train), np.shape(Y_test)"
   ]
  },
  {
   "cell_type": "code",
   "execution_count": 91,
   "metadata": {},
   "outputs": [],
   "source": [
    "# input image dimensions\n",
    "img_count , img_rows, img_cols, img_channels = np.shape(X_train)"
   ]
  },
  {
   "cell_type": "code",
   "execution_count": 92,
   "metadata": {},
   "outputs": [
    {
     "data": {
      "text/plain": [
       "(4327, 32, 32, 3)"
      ]
     },
     "execution_count": 92,
     "metadata": {},
     "output_type": "execute_result"
    }
   ],
   "source": [
    "img_count , img_rows, img_cols, img_channels"
   ]
  },
  {
   "cell_type": "code",
   "execution_count": 93,
   "metadata": {},
   "outputs": [
    {
     "name": "stdout",
     "output_type": "stream",
     "text": [
      "_________________________________________________________________\n",
      "Layer (type)                 Output Shape              Param #   \n",
      "=================================================================\n",
      "conv2d_9 (Conv2D)            (None, 32, 32, 16)        448       \n",
      "_________________________________________________________________\n",
      "activation_13 (Activation)   (None, 32, 32, 16)        0         \n",
      "_________________________________________________________________\n",
      "max_pooling2d_9 (MaxPooling2 (None, 16, 16, 16)        0         \n",
      "_________________________________________________________________\n",
      "dropout_11 (Dropout)         (None, 16, 16, 16)        0         \n",
      "_________________________________________________________________\n",
      "conv2d_10 (Conv2D)           (None, 16, 16, 32)        4640      \n",
      "_________________________________________________________________\n",
      "activation_14 (Activation)   (None, 16, 16, 32)        0         \n",
      "_________________________________________________________________\n",
      "max_pooling2d_10 (MaxPooling (None, 8, 8, 32)          0         \n",
      "_________________________________________________________________\n",
      "dropout_12 (Dropout)         (None, 8, 8, 32)          0         \n",
      "_________________________________________________________________\n",
      "conv2d_11 (Conv2D)           (None, 8, 8, 64)          18496     \n",
      "_________________________________________________________________\n",
      "activation_15 (Activation)   (None, 8, 8, 64)          0         \n",
      "_________________________________________________________________\n",
      "max_pooling2d_11 (MaxPooling (None, 4, 4, 64)          0         \n",
      "_________________________________________________________________\n",
      "dropout_13 (Dropout)         (None, 4, 4, 64)          0         \n",
      "_________________________________________________________________\n",
      "conv2d_12 (Conv2D)           (None, 4, 4, 128)         73856     \n",
      "_________________________________________________________________\n",
      "activation_16 (Activation)   (None, 4, 4, 128)         0         \n",
      "_________________________________________________________________\n",
      "max_pooling2d_12 (MaxPooling (None, 2, 2, 128)         0         \n",
      "_________________________________________________________________\n",
      "dropout_14 (Dropout)         (None, 2, 2, 128)         0         \n",
      "_________________________________________________________________\n",
      "flatten_3 (Flatten)          (None, 512)               0         \n",
      "_________________________________________________________________\n",
      "dense_5 (Dense)              (None, 512)               262656    \n",
      "_________________________________________________________________\n",
      "activation_17 (Activation)   (None, 512)               0         \n",
      "_________________________________________________________________\n",
      "dropout_15 (Dropout)         (None, 512)               0         \n",
      "_________________________________________________________________\n",
      "dense_6 (Dense)              (None, 50)                25650     \n",
      "_________________________________________________________________\n",
      "activation_18 (Activation)   (None, 50)                0         \n",
      "=================================================================\n",
      "Total params: 385,746\n",
      "Trainable params: 385,746\n",
      "Non-trainable params: 0\n",
      "_________________________________________________________________\n",
      "None\n"
     ]
    }
   ],
   "source": [
    "# A common Conv2D model\n",
    "model = Sequential()\n",
    "model.add(Conv2D(16, (3, 3), padding='same',\n",
    "                        input_shape=(img_rows, img_cols, img_channels)))\n",
    "model.add(Activation('relu'))\n",
    "model.add(MaxPooling2D(pool_size=(2, 2),padding='same'))\n",
    "model.add(Dropout(0.25))\n",
    "\n",
    "model.add(Conv2D(32, (3, 3), padding='same'))\n",
    "model.add(Activation('relu'))\n",
    "model.add(MaxPooling2D(pool_size=(2, 2),padding='same'))\n",
    "model.add(Dropout(0.25))\n",
    "\n",
    "model.add(Conv2D(64, (3, 3), padding='same'))\n",
    "model.add(Activation('relu'))\n",
    "model.add(MaxPooling2D(pool_size=(2, 2),padding='same'))\n",
    "model.add(Dropout(0.25))\n",
    "\n",
    "model.add(Conv2D(128, (3, 3), padding='same'))\n",
    "model.add(Activation('relu'))\n",
    "model.add(MaxPooling2D(pool_size=(2, 2),padding='same'))\n",
    "model.add(Dropout(0.25))\n",
    "\n",
    "model.add(Flatten())\n",
    "model.add(Dense(512))\n",
    "model.add(Activation('relu'))\n",
    "model.add(Dropout(0.5))\n",
    "model.add(Dense(nb_classes))\n",
    "model.add(Activation('softmax'))\n",
    "\n",
    "\n",
    "print(model.summary())"
   ]
  },
  {
   "cell_type": "code",
   "execution_count": 94,
   "metadata": {},
   "outputs": [],
   "source": [
    "batch_size=256\n",
    "epochs=50"
   ]
  },
  {
   "cell_type": "code",
   "execution_count": 95,
   "metadata": {},
   "outputs": [],
   "source": [
    "# initiate RMSprop optimizer\n",
    "opt = keras.optimizers.Adam(lr=3e-4)\n",
    "\n",
    "# Let's train the model using RMSprop\n",
    "model.compile(loss='categorical_crossentropy',\n",
    "              optimizer=opt,\n",
    "              metrics=['accuracy'])"
   ]
  },
  {
   "cell_type": "code",
   "execution_count": 96,
   "metadata": {
    "scrolled": true
   },
   "outputs": [
    {
     "name": "stderr",
     "output_type": "stream",
     "text": [
      "/Users/jayanth/Library/Python/2.7/lib/python/site-packages/ipykernel_launcher.py:1: UserWarning: The `nb_epoch` argument in `fit` has been renamed `epochs`.\n",
      "  \"\"\"Entry point for launching an IPython kernel.\n"
     ]
    },
    {
     "name": "stdout",
     "output_type": "stream",
     "text": [
      "Train on 4327 samples, validate on 89 samples\n",
      "Epoch 1/50\n",
      "4327/4327 [==============================] - 5s 1ms/step - loss: 3.8634 - acc: 0.0361 - val_loss: 3.8531 - val_acc: 0.0225\n",
      "Epoch 2/50\n",
      "4327/4327 [==============================] - 4s 962us/step - loss: 3.7804 - acc: 0.0446 - val_loss: 3.8479 - val_acc: 0.0225\n",
      "Epoch 3/50\n",
      "4327/4327 [==============================] - 4s 960us/step - loss: 3.7667 - acc: 0.0462 - val_loss: 3.8396 - val_acc: 0.0449\n",
      "Epoch 4/50\n",
      "4327/4327 [==============================] - 4s 950us/step - loss: 3.7475 - acc: 0.0557 - val_loss: 3.8293 - val_acc: 0.0449\n",
      "Epoch 5/50\n",
      "4327/4327 [==============================] - 5s 1ms/step - loss: 3.7118 - acc: 0.0712 - val_loss: 3.7904 - val_acc: 0.0899\n",
      "Epoch 6/50\n",
      "4327/4327 [==============================] - 5s 1ms/step - loss: 3.6337 - acc: 0.1033 - val_loss: 3.6894 - val_acc: 0.1461\n",
      "Epoch 7/50\n",
      "4327/4327 [==============================] - 5s 1ms/step - loss: 3.3753 - acc: 0.1609 - val_loss: 3.3552 - val_acc: 0.1798\n",
      "Epoch 8/50\n",
      "4327/4327 [==============================] - 5s 1ms/step - loss: 2.9416 - acc: 0.2313 - val_loss: 2.8905 - val_acc: 0.2022\n",
      "Epoch 9/50\n",
      "4327/4327 [==============================] - 4s 1ms/step - loss: 2.5792 - acc: 0.2979 - val_loss: 2.5126 - val_acc: 0.3371\n",
      "Epoch 10/50\n",
      "4327/4327 [==============================] - 4s 968us/step - loss: 2.2729 - acc: 0.3591 - val_loss: 2.1346 - val_acc: 0.4494\n",
      "Epoch 11/50\n",
      "4327/4327 [==============================] - 5s 1ms/step - loss: 2.0553 - acc: 0.4084 - val_loss: 1.9015 - val_acc: 0.5281\n",
      "Epoch 12/50\n",
      "4327/4327 [==============================] - 5s 1ms/step - loss: 1.8533 - acc: 0.4546 - val_loss: 1.7187 - val_acc: 0.5730\n",
      "Epoch 13/50\n",
      "4327/4327 [==============================] - 4s 1ms/step - loss: 1.6811 - acc: 0.4999 - val_loss: 1.5379 - val_acc: 0.5955\n",
      "Epoch 14/50\n",
      "4327/4327 [==============================] - 5s 1ms/step - loss: 1.5622 - acc: 0.5336 - val_loss: 1.3904 - val_acc: 0.5955\n",
      "Epoch 15/50\n",
      "4327/4327 [==============================] - 4s 1000us/step - loss: 1.4280 - acc: 0.5805 - val_loss: 1.2324 - val_acc: 0.6517\n",
      "Epoch 16/50\n",
      "4327/4327 [==============================] - 5s 1ms/step - loss: 1.3069 - acc: 0.6002 - val_loss: 1.1369 - val_acc: 0.6629\n",
      "Epoch 17/50\n",
      "4327/4327 [==============================] - 4s 1ms/step - loss: 1.2105 - acc: 0.6335 - val_loss: 1.0308 - val_acc: 0.7079\n",
      "Epoch 18/50\n",
      "4327/4327 [==============================] - 4s 994us/step - loss: 1.1398 - acc: 0.6603 - val_loss: 0.9390 - val_acc: 0.7416\n",
      "Epoch 19/50\n",
      "4327/4327 [==============================] - 4s 996us/step - loss: 1.0515 - acc: 0.6788 - val_loss: 0.8558 - val_acc: 0.7978\n",
      "Epoch 20/50\n",
      "4327/4327 [==============================] - 5s 1ms/step - loss: 0.9823 - acc: 0.7021 - val_loss: 0.8198 - val_acc: 0.7416\n",
      "Epoch 21/50\n",
      "4327/4327 [==============================] - 5s 1ms/step - loss: 0.9053 - acc: 0.7211 - val_loss: 0.7064 - val_acc: 0.8315\n",
      "Epoch 22/50\n",
      "4327/4327 [==============================] - 5s 1ms/step - loss: 0.8552 - acc: 0.7368 - val_loss: 0.6980 - val_acc: 0.8315\n",
      "Epoch 23/50\n",
      "4327/4327 [==============================] - 5s 1ms/step - loss: 0.8121 - acc: 0.7534 - val_loss: 0.6468 - val_acc: 0.8427\n",
      "Epoch 24/50\n",
      "4327/4327 [==============================] - 5s 1ms/step - loss: 0.7839 - acc: 0.7610 - val_loss: 0.5731 - val_acc: 0.8652\n",
      "Epoch 25/50\n",
      "4327/4327 [==============================] - 5s 1ms/step - loss: 0.7447 - acc: 0.7677 - val_loss: 0.5635 - val_acc: 0.8764\n",
      "Epoch 26/50\n",
      "4327/4327 [==============================] - 5s 1ms/step - loss: 0.7001 - acc: 0.7818 - val_loss: 0.4988 - val_acc: 0.8652\n",
      "Epoch 27/50\n",
      "4327/4327 [==============================] - 6s 1ms/step - loss: 0.6793 - acc: 0.7885 - val_loss: 0.4751 - val_acc: 0.8764\n",
      "Epoch 28/50\n",
      "4327/4327 [==============================] - 5s 1ms/step - loss: 0.6333 - acc: 0.7971 - val_loss: 0.4610 - val_acc: 0.8764\n",
      "Epoch 29/50\n",
      "4327/4327 [==============================] - 5s 1ms/step - loss: 0.5864 - acc: 0.8147 - val_loss: 0.4203 - val_acc: 0.8764\n",
      "Epoch 30/50\n",
      "4327/4327 [==============================] - 5s 1ms/step - loss: 0.5905 - acc: 0.8156 - val_loss: 0.4029 - val_acc: 0.8876\n",
      "Epoch 31/50\n",
      "4327/4327 [==============================] - 5s 1ms/step - loss: 0.5634 - acc: 0.8237 - val_loss: 0.4055 - val_acc: 0.8876\n",
      "Epoch 32/50\n",
      "4327/4327 [==============================] - 5s 1ms/step - loss: 0.5389 - acc: 0.8257 - val_loss: 0.4060 - val_acc: 0.8876\n",
      "Epoch 33/50\n",
      "4327/4327 [==============================] - 5s 1ms/step - loss: 0.5099 - acc: 0.8465 - val_loss: 0.3532 - val_acc: 0.8876\n",
      "Epoch 34/50\n",
      "4327/4327 [==============================] - 5s 1ms/step - loss: 0.4933 - acc: 0.8470 - val_loss: 0.3874 - val_acc: 0.8764\n",
      "Epoch 35/50\n",
      "4327/4327 [==============================] - 5s 1ms/step - loss: 0.4818 - acc: 0.8491 - val_loss: 0.3308 - val_acc: 0.8876\n",
      "Epoch 36/50\n",
      "4327/4327 [==============================] - 5s 1ms/step - loss: 0.4719 - acc: 0.8507 - val_loss: 0.3481 - val_acc: 0.8876\n",
      "Epoch 37/50\n",
      "4327/4327 [==============================] - 5s 1ms/step - loss: 0.4604 - acc: 0.8500 - val_loss: 0.3259 - val_acc: 0.8989\n",
      "Epoch 38/50\n",
      "4327/4327 [==============================] - 5s 1ms/step - loss: 0.4322 - acc: 0.8636 - val_loss: 0.3137 - val_acc: 0.8989\n",
      "Epoch 39/50\n",
      "4327/4327 [==============================] - 5s 1ms/step - loss: 0.4314 - acc: 0.8627 - val_loss: 0.3203 - val_acc: 0.8989\n",
      "Epoch 40/50\n",
      "4327/4327 [==============================] - 5s 1ms/step - loss: 0.4207 - acc: 0.8641 - val_loss: 0.2980 - val_acc: 0.9101\n",
      "Epoch 41/50\n",
      "4327/4327 [==============================] - 5s 1ms/step - loss: 0.3995 - acc: 0.8667 - val_loss: 0.3020 - val_acc: 0.9101\n",
      "Epoch 42/50\n",
      "4327/4327 [==============================] - 6s 1ms/step - loss: 0.3818 - acc: 0.8768 - val_loss: 0.3043 - val_acc: 0.8876\n",
      "Epoch 43/50\n",
      "4327/4327 [==============================] - 6s 1ms/step - loss: 0.3625 - acc: 0.8831 - val_loss: 0.2720 - val_acc: 0.8989\n",
      "Epoch 44/50\n",
      "4327/4327 [==============================] - 5s 1ms/step - loss: 0.3585 - acc: 0.8835 - val_loss: 0.2685 - val_acc: 0.8989\n",
      "Epoch 45/50\n",
      "4327/4327 [==============================] - 6s 1ms/step - loss: 0.3419 - acc: 0.8884 - val_loss: 0.2607 - val_acc: 0.8989\n",
      "Epoch 46/50\n",
      "4327/4327 [==============================] - 6s 1ms/step - loss: 0.3220 - acc: 0.8935 - val_loss: 0.2595 - val_acc: 0.9101\n",
      "Epoch 47/50\n",
      "4327/4327 [==============================] - 5s 1ms/step - loss: 0.3527 - acc: 0.8872 - val_loss: 0.2427 - val_acc: 0.9101\n",
      "Epoch 48/50\n",
      "4327/4327 [==============================] - 5s 1ms/step - loss: 0.3214 - acc: 0.8932 - val_loss: 0.2348 - val_acc: 0.8989\n",
      "Epoch 49/50\n",
      "4327/4327 [==============================] - 5s 1ms/step - loss: 0.3097 - acc: 0.8992 - val_loss: 0.2405 - val_acc: 0.8989\n",
      "Epoch 50/50\n",
      "4327/4327 [==============================] - 5s 1ms/step - loss: 0.3213 - acc: 0.8923 - val_loss: 0.2106 - val_acc: 0.9101\n"
     ]
    }
   ],
   "source": [
    "history = model.fit(X_train, Y_train, batch_size=batch_size, nb_epoch=epochs, verbose=1, validation_data=(X_test, Y_test))"
   ]
  },
  {
   "cell_type": "code",
   "execution_count": 97,
   "metadata": {},
   "outputs": [],
   "source": [
    "res1 = model.predict(X_train)\n",
    "res2 = model.predict(X_test)"
   ]
  },
  {
   "cell_type": "code",
   "execution_count": 101,
   "metadata": {},
   "outputs": [
    {
     "data": {
      "text/plain": [
       "'LAL'"
      ]
     },
     "execution_count": 101,
     "metadata": {},
     "output_type": "execute_result"
    }
   ],
   "source": [
    "characters[np.argmax(res2[0])]"
   ]
  },
  {
   "cell_type": "code",
   "execution_count": 105,
   "metadata": {},
   "outputs": [
    {
     "data": {
      "image/png": "[encoded data removed]",
      "text/plain": [
       "<Figure size 432x288 with 1 Axes>"
      ]
     },
     "metadata": {
      "needs_background": "light"
     },
     "output_type": "display_data"
    }
   ],
   "source": [
    "fig = plt.figure()\n",
    "ax1 = fig.add_subplot(111)\n",
    "ax1.imshow(X_test[0,:,:,0:3])\n",
    "plt.show()"
   ]
  }
 ],
 "metadata": {
  "kernelspec": {
   "display_name": "Python 2",
   "language": "python",
   "name": "python2"
  },
  "language_info": {
   "codemirror_mode": {
    "name": "ipython",
    "version": 2
   },
   "file_extension": ".py",
   "mimetype": "text/x-python",
   "name": "python",
   "nbconvert_exporter": "python",
   "pygments_lexer": "ipython2",
   "version": "2.7.15"
  }
 },
 "nbformat": 4,
 "nbformat_minor": 2
}
